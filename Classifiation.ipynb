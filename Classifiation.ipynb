{
 "metadata": {
  "language_info": {
   "codemirror_mode": {
    "name": "ipython",
    "version": 3
   },
   "file_extension": ".py",
   "mimetype": "text/x-python",
   "name": "python",
   "nbconvert_exporter": "python",
   "pygments_lexer": "ipython3",
   "version": "3.8.5-final"
  },
  "orig_nbformat": 2,
  "kernelspec": {
   "name": "python3",
   "display_name": "Python 3.8.5 64-bit (conda)",
   "metadata": {
    "interpreter": {
     "hash": "99064245c46dbc2db7b8d07c159760823b724f885b81547d07dd383c67373287"
    }
   }
  }
 },
 "nbformat": 4,
 "nbformat_minor": 2,
 "cells": [
  {
   "cell_type": "code",
   "execution_count": 20,
   "metadata": {},
   "outputs": [],
   "source": [
    "import numpy as np\n",
    "import pandas as pd\n",
    "import matplotlib.pyplot as plt\n",
    "import tensorflow.compat.v2.feature_column as fc\n",
    "import tensorflow as tf\n",
    "\n",
    "from IPython.display import clear_output"
   ]
  },
  {
   "cell_type": "code",
   "execution_count": 21,
   "metadata": {},
   "outputs": [],
   "source": [
    "train_path = tf.keras.utils.get_file(\n",
    "    \"iris_training.csv\", \"https://storage.googleapis.com/download.tensorflow.org/data/iris_training.csv\")\n",
    "test_path = tf.keras.utils.get_file(\n",
    "    \"iris_test.csv\", \"https://storage.googleapis.com/download.tensorflow.org/data/iris_test.csv\")\n"
   ]
  },
  {
   "cell_type": "code",
   "execution_count": 22,
   "metadata": {},
   "outputs": [],
   "source": [
    "CSV_COLUMN_NAMES = ['SepalLength', 'SepalWidth', 'PetalLength', 'PetalWidth', 'Species']\n",
    "SPECIES = ['Setosa', 'Versicolor', 'Virginica']\n",
    "\n",
    "train = pd.read_csv(train_path, names=CSV_COLUMN_NAMES, header=0)\n",
    "test = pd.read_csv(test_path, names=CSV_COLUMN_NAMES, header=0)"
   ]
  },
  {
   "cell_type": "code",
   "execution_count": 23,
   "metadata": {},
   "outputs": [
    {
     "output_type": "execute_result",
     "data": {
      "text/plain": [
       "   SepalLength  SepalWidth  PetalLength  PetalWidth  Species\n",
       "0          6.4         2.8          5.6         2.2        2\n",
       "1          5.0         2.3          3.3         1.0        1\n",
       "2          4.9         2.5          4.5         1.7        2\n",
       "3          4.9         3.1          1.5         0.1        0\n",
       "4          5.7         3.8          1.7         0.3        0"
      ],
      "text/html": "<div>\n<style scoped>\n    .dataframe tbody tr th:only-of-type {\n        vertical-align: middle;\n    }\n\n    .dataframe tbody tr th {\n        vertical-align: top;\n    }\n\n    .dataframe thead th {\n        text-align: right;\n    }\n</style>\n<table border=\"1\" class=\"dataframe\">\n  <thead>\n    <tr style=\"text-align: right;\">\n      <th></th>\n      <th>SepalLength</th>\n      <th>SepalWidth</th>\n      <th>PetalLength</th>\n      <th>PetalWidth</th>\n      <th>Species</th>\n    </tr>\n  </thead>\n  <tbody>\n    <tr>\n      <th>0</th>\n      <td>6.4</td>\n      <td>2.8</td>\n      <td>5.6</td>\n      <td>2.2</td>\n      <td>2</td>\n    </tr>\n    <tr>\n      <th>1</th>\n      <td>5.0</td>\n      <td>2.3</td>\n      <td>3.3</td>\n      <td>1.0</td>\n      <td>1</td>\n    </tr>\n    <tr>\n      <th>2</th>\n      <td>4.9</td>\n      <td>2.5</td>\n      <td>4.5</td>\n      <td>1.7</td>\n      <td>2</td>\n    </tr>\n    <tr>\n      <th>3</th>\n      <td>4.9</td>\n      <td>3.1</td>\n      <td>1.5</td>\n      <td>0.1</td>\n      <td>0</td>\n    </tr>\n    <tr>\n      <th>4</th>\n      <td>5.7</td>\n      <td>3.8</td>\n      <td>1.7</td>\n      <td>0.3</td>\n      <td>0</td>\n    </tr>\n  </tbody>\n</table>\n</div>"
     },
     "metadata": {},
     "execution_count": 23
    }
   ],
   "source": [
    "train.head()"
   ]
  },
  {
   "cell_type": "code",
   "execution_count": 24,
   "metadata": {},
   "outputs": [
    {
     "output_type": "execute_result",
     "data": {
      "text/plain": [
       "   SepalLength  SepalWidth  PetalLength  PetalWidth\n",
       "0          6.4         2.8          5.6         2.2\n",
       "1          5.0         2.3          3.3         1.0\n",
       "2          4.9         2.5          4.5         1.7\n",
       "3          4.9         3.1          1.5         0.1\n",
       "4          5.7         3.8          1.7         0.3"
      ],
      "text/html": "<div>\n<style scoped>\n    .dataframe tbody tr th:only-of-type {\n        vertical-align: middle;\n    }\n\n    .dataframe tbody tr th {\n        vertical-align: top;\n    }\n\n    .dataframe thead th {\n        text-align: right;\n    }\n</style>\n<table border=\"1\" class=\"dataframe\">\n  <thead>\n    <tr style=\"text-align: right;\">\n      <th></th>\n      <th>SepalLength</th>\n      <th>SepalWidth</th>\n      <th>PetalLength</th>\n      <th>PetalWidth</th>\n    </tr>\n  </thead>\n  <tbody>\n    <tr>\n      <th>0</th>\n      <td>6.4</td>\n      <td>2.8</td>\n      <td>5.6</td>\n      <td>2.2</td>\n    </tr>\n    <tr>\n      <th>1</th>\n      <td>5.0</td>\n      <td>2.3</td>\n      <td>3.3</td>\n      <td>1.0</td>\n    </tr>\n    <tr>\n      <th>2</th>\n      <td>4.9</td>\n      <td>2.5</td>\n      <td>4.5</td>\n      <td>1.7</td>\n    </tr>\n    <tr>\n      <th>3</th>\n      <td>4.9</td>\n      <td>3.1</td>\n      <td>1.5</td>\n      <td>0.1</td>\n    </tr>\n    <tr>\n      <th>4</th>\n      <td>5.7</td>\n      <td>3.8</td>\n      <td>1.7</td>\n      <td>0.3</td>\n    </tr>\n  </tbody>\n</table>\n</div>"
     },
     "metadata": {},
     "execution_count": 24
    }
   ],
   "source": [
    "train_y = train.pop('Species')\n",
    "test_y = test.pop('Species')\n",
    "train.head() # the species column is now gone"
   ]
  },
  {
   "cell_type": "code",
   "execution_count": 25,
   "metadata": {},
   "outputs": [
    {
     "output_type": "execute_result",
     "data": {
      "text/plain": [
       "(120, 4)"
      ]
     },
     "metadata": {},
     "execution_count": 25
    }
   ],
   "source": [
    "train.shape"
   ]
  },
  {
   "cell_type": "code",
   "execution_count": 26,
   "metadata": {},
   "outputs": [],
   "source": [
    "def input_fn(features, labels, training=True, batch_size=256):\n",
    "    # Convert the inputs to a Dataset.\n",
    "    dataset = tf.data.Dataset.from_tensor_slices((dict(features), labels))\n",
    "\n",
    "    # Shuffle and repeat if you are in training mode.\n",
    "    if training:\n",
    "        dataset = dataset.shuffle(1000).repeat()\n",
    "    \n",
    "    return dataset.batch(batch_size)"
   ]
  },
  {
   "cell_type": "code",
   "execution_count": 27,
   "metadata": {},
   "outputs": [
    {
     "output_type": "stream",
     "name": "stdout",
     "text": [
      "[NumericColumn(key='SepalLength', shape=(1,), default_value=None, dtype=tf.float32, normalizer_fn=None), NumericColumn(key='SepalWidth', shape=(1,), default_value=None, dtype=tf.float32, normalizer_fn=None), NumericColumn(key='PetalLength', shape=(1,), default_value=None, dtype=tf.float32, normalizer_fn=None), NumericColumn(key='PetalWidth', shape=(1,), default_value=None, dtype=tf.float32, normalizer_fn=None)]\n"
     ]
    }
   ],
   "source": [
    "# Feature columns describe how to use the input.\n",
    "my_feature_columns = []\n",
    "for key in train.keys():\n",
    "    my_feature_columns.append(tf.feature_column.numeric_column(key=key))\n",
    "print(my_feature_columns)"
   ]
  },
  {
   "cell_type": "code",
   "execution_count": 28,
   "metadata": {},
   "outputs": [
    {
     "output_type": "stream",
     "name": "stdout",
     "text": [
      "INFO:tensorflow:Using default config.\n",
      "WARNING:tensorflow:Using temporary folder as model directory: C:\\Users\\pipem\\AppData\\Local\\Temp\\tmpwwt8z5q6\n",
      "INFO:tensorflow:Using config: {'_model_dir': 'C:\\\\Users\\\\pipem\\\\AppData\\\\Local\\\\Temp\\\\tmpwwt8z5q6', '_tf_random_seed': None, '_save_summary_steps': 100, '_save_checkpoints_steps': None, '_save_checkpoints_secs': 600, '_session_config': allow_soft_placement: true\n",
      "graph_options {\n",
      "  rewrite_options {\n",
      "    meta_optimizer_iterations: ONE\n",
      "  }\n",
      "}\n",
      ", '_keep_checkpoint_max': 5, '_keep_checkpoint_every_n_hours': 10000, '_log_step_count_steps': 100, '_train_distribute': None, '_device_fn': None, '_protocol': None, '_eval_distribute': None, '_experimental_distribute': None, '_experimental_max_worker_delay_secs': None, '_session_creation_timeout_secs': 7200, '_service': None, '_cluster_spec': ClusterSpec({}), '_task_type': 'worker', '_task_id': 0, '_global_id_in_cluster': 0, '_master': '', '_evaluation_master': '', '_is_chief': True, '_num_ps_replicas': 0, '_num_worker_replicas': 1}\n"
     ]
    }
   ],
   "source": [
    "# Build a DNN with 2 hidden layers with 30 and 10 hidden nodes each.\n",
    "classifier = tf.estimator.DNNClassifier(\n",
    "    feature_columns=my_feature_columns,\n",
    "    # Two hidden layers of 30 and 10 nodes respectively.\n",
    "    hidden_units=[30, 10],\n",
    "    # The model must choose between 3 classes.\n",
    "    n_classes=3)"
   ]
  },
  {
   "cell_type": "code",
   "execution_count": 29,
   "metadata": {},
   "outputs": [
    {
     "output_type": "stream",
     "name": "stdout",
     "text": [
      "INFO:tensorflow:Calling model_fn.\n",
      "WARNING:tensorflow:Layer dnn is casting an input tensor from dtype float64 to the layer's dtype of float32, which is new behavior in TensorFlow 2.  The layer has dtype float32 because its dtype defaults to floatx.\n",
      "\n",
      "If you intended to run this layer in float32, you can safely ignore this warning. If in doubt, this warning is likely only an issue if you are porting a TensorFlow 1.X model to TensorFlow 2.\n",
      "\n",
      "To change all layers to have dtype float64 by default, call `tf.keras.backend.set_floatx('float64')`. To change just this layer, pass dtype='float64' to the layer constructor. If you are the author of this layer, you can disable autocasting by passing autocast=False to the base Layer constructor.\n",
      "\n",
      "INFO:tensorflow:Done calling model_fn.\n",
      "INFO:tensorflow:Create CheckpointSaverHook.\n",
      "INFO:tensorflow:Graph was finalized.\n",
      "INFO:tensorflow:Running local_init_op.\n",
      "INFO:tensorflow:Done running local_init_op.\n",
      "INFO:tensorflow:Calling checkpoint listeners before saving checkpoint 0...\n",
      "INFO:tensorflow:Saving checkpoints for 0 into C:\\Users\\pipem\\AppData\\Local\\Temp\\tmpwwt8z5q6\\model.ckpt.\n",
      "INFO:tensorflow:Calling checkpoint listeners after saving checkpoint 0...\n",
      "INFO:tensorflow:loss = 1.5368577, step = 0\n",
      "INFO:tensorflow:global_step/sec: 651.082\n",
      "INFO:tensorflow:loss = 1.1900918, step = 100 (0.154 sec)\n",
      "INFO:tensorflow:global_step/sec: 954.935\n",
      "INFO:tensorflow:loss = 1.1363492, step = 200 (0.105 sec)\n",
      "INFO:tensorflow:global_step/sec: 873.737\n",
      "INFO:tensorflow:loss = 1.09862, step = 300 (0.115 sec)\n",
      "INFO:tensorflow:global_step/sec: 881.918\n",
      "INFO:tensorflow:loss = 1.0676017, step = 400 (0.112 sec)\n",
      "INFO:tensorflow:global_step/sec: 973.464\n",
      "INFO:tensorflow:loss = 1.0543315, step = 500 (0.103 sec)\n",
      "INFO:tensorflow:global_step/sec: 850.506\n",
      "INFO:tensorflow:loss = 1.0413026, step = 600 (0.118 sec)\n",
      "INFO:tensorflow:global_step/sec: 967.939\n",
      "INFO:tensorflow:loss = 1.0269094, step = 700 (0.103 sec)\n",
      "INFO:tensorflow:global_step/sec: 937.086\n",
      "INFO:tensorflow:loss = 1.0061393, step = 800 (0.107 sec)\n",
      "INFO:tensorflow:global_step/sec: 941.235\n",
      "INFO:tensorflow:loss = 0.99649185, step = 900 (0.107 sec)\n",
      "INFO:tensorflow:global_step/sec: 903.437\n",
      "INFO:tensorflow:loss = 0.98215544, step = 1000 (0.111 sec)\n",
      "INFO:tensorflow:global_step/sec: 973.193\n",
      "INFO:tensorflow:loss = 0.92565864, step = 1100 (0.102 sec)\n",
      "INFO:tensorflow:global_step/sec: 964.372\n",
      "INFO:tensorflow:loss = 0.89745474, step = 1200 (0.104 sec)\n",
      "INFO:tensorflow:global_step/sec: 973.258\n",
      "INFO:tensorflow:loss = 0.88473, step = 1300 (0.104 sec)\n",
      "INFO:tensorflow:global_step/sec: 955.135\n",
      "INFO:tensorflow:loss = 0.8673636, step = 1400 (0.105 sec)\n",
      "INFO:tensorflow:global_step/sec: 964.115\n",
      "INFO:tensorflow:loss = 0.85756814, step = 1500 (0.104 sec)\n",
      "INFO:tensorflow:global_step/sec: 964.106\n",
      "INFO:tensorflow:loss = 0.85367715, step = 1600 (0.103 sec)\n",
      "INFO:tensorflow:global_step/sec: 937.072\n",
      "INFO:tensorflow:loss = 0.843922, step = 1700 (0.108 sec)\n",
      "INFO:tensorflow:global_step/sec: 958.306\n",
      "INFO:tensorflow:loss = 0.83489525, step = 1800 (0.104 sec)\n",
      "INFO:tensorflow:global_step/sec: 941.208\n",
      "INFO:tensorflow:loss = 0.8103788, step = 1900 (0.105 sec)\n",
      "INFO:tensorflow:global_step/sec: 963.88\n",
      "INFO:tensorflow:loss = 0.805327, step = 2000 (0.105 sec)\n",
      "INFO:tensorflow:global_step/sec: 864.557\n",
      "INFO:tensorflow:loss = 0.7999321, step = 2100 (0.117 sec)\n",
      "INFO:tensorflow:global_step/sec: 958.229\n",
      "INFO:tensorflow:loss = 0.8001441, step = 2200 (0.102 sec)\n",
      "INFO:tensorflow:global_step/sec: 973.491\n",
      "INFO:tensorflow:loss = 0.7974757, step = 2300 (0.103 sec)\n",
      "INFO:tensorflow:global_step/sec: 954.681\n",
      "INFO:tensorflow:loss = 0.77092254, step = 2400 (0.106 sec)\n",
      "INFO:tensorflow:global_step/sec: 920.112\n",
      "INFO:tensorflow:loss = 0.7833706, step = 2500 (0.109 sec)\n",
      "INFO:tensorflow:global_step/sec: 949.406\n",
      "INFO:tensorflow:loss = 0.7623836, step = 2600 (0.104 sec)\n",
      "INFO:tensorflow:global_step/sec: 937.067\n",
      "INFO:tensorflow:loss = 0.750775, step = 2700 (0.107 sec)\n",
      "INFO:tensorflow:global_step/sec: 964.121\n",
      "INFO:tensorflow:loss = 0.7468921, step = 2800 (0.104 sec)\n",
      "INFO:tensorflow:global_step/sec: 992.732\n",
      "INFO:tensorflow:loss = 0.7603286, step = 2900 (0.101 sec)\n",
      "INFO:tensorflow:global_step/sec: 973.475\n",
      "INFO:tensorflow:loss = 0.74054074, step = 3000 (0.103 sec)\n",
      "INFO:tensorflow:global_step/sec: 973.389\n",
      "INFO:tensorflow:loss = 0.7406643, step = 3100 (0.103 sec)\n",
      "INFO:tensorflow:global_step/sec: 964.183\n",
      "INFO:tensorflow:loss = 0.73251706, step = 3200 (0.105 sec)\n",
      "INFO:tensorflow:global_step/sec: 788.651\n",
      "INFO:tensorflow:loss = 0.7115441, step = 3300 (0.127 sec)\n",
      "INFO:tensorflow:global_step/sec: 896.796\n",
      "INFO:tensorflow:loss = 0.7311895, step = 3400 (0.112 sec)\n",
      "INFO:tensorflow:global_step/sec: 992.749\n",
      "INFO:tensorflow:loss = 0.7438515, step = 3500 (0.100 sec)\n",
      "INFO:tensorflow:global_step/sec: 1002.68\n",
      "INFO:tensorflow:loss = 0.70928586, step = 3600 (0.101 sec)\n",
      "INFO:tensorflow:global_step/sec: 905.094\n",
      "INFO:tensorflow:loss = 0.70277756, step = 3700 (0.110 sec)\n",
      "INFO:tensorflow:global_step/sec: 954.931\n",
      "INFO:tensorflow:loss = 0.6965245, step = 3800 (0.104 sec)\n",
      "INFO:tensorflow:global_step/sec: 983.014\n",
      "INFO:tensorflow:loss = 0.7044874, step = 3900 (0.103 sec)\n",
      "INFO:tensorflow:global_step/sec: 973.222\n",
      "INFO:tensorflow:loss = 0.7057762, step = 4000 (0.103 sec)\n",
      "INFO:tensorflow:global_step/sec: 964.35\n",
      "INFO:tensorflow:loss = 0.70152307, step = 4100 (0.103 sec)\n",
      "INFO:tensorflow:global_step/sec: 982.823\n",
      "INFO:tensorflow:loss = 0.68976235, step = 4200 (0.103 sec)\n",
      "INFO:tensorflow:global_step/sec: 964.299\n",
      "INFO:tensorflow:loss = 0.69198763, step = 4300 (0.104 sec)\n",
      "INFO:tensorflow:global_step/sec: 887.319\n",
      "INFO:tensorflow:loss = 0.68673646, step = 4400 (0.113 sec)\n",
      "INFO:tensorflow:global_step/sec: 954.924\n",
      "INFO:tensorflow:loss = 0.6729702, step = 4500 (0.104 sec)\n",
      "INFO:tensorflow:global_step/sec: 992.751\n",
      "INFO:tensorflow:loss = 0.68100923, step = 4600 (0.101 sec)\n",
      "INFO:tensorflow:global_step/sec: 954.92\n",
      "INFO:tensorflow:loss = 0.69088185, step = 4700 (0.106 sec)\n",
      "INFO:tensorflow:global_step/sec: 945.922\n",
      "INFO:tensorflow:loss = 0.6679784, step = 4800 (0.105 sec)\n",
      "INFO:tensorflow:global_step/sec: 964.117\n",
      "INFO:tensorflow:loss = 0.6610596, step = 4900 (0.104 sec)\n",
      "INFO:tensorflow:Calling checkpoint listeners before saving checkpoint 5000...\n",
      "INFO:tensorflow:Saving checkpoints for 5000 into C:\\Users\\pipem\\AppData\\Local\\Temp\\tmpwwt8z5q6\\model.ckpt.\n",
      "INFO:tensorflow:Calling checkpoint listeners after saving checkpoint 5000...\n",
      "INFO:tensorflow:Loss for final step: 0.6690879.\n"
     ]
    },
    {
     "output_type": "execute_result",
     "data": {
      "text/plain": [
       "<tensorflow_estimator.python.estimator.canned.dnn.DNNClassifierV2 at 0x1eca0684b50>"
      ]
     },
     "metadata": {},
     "execution_count": 29
    }
   ],
   "source": [
    "classifier.train(input_fn=lambda: input_fn(train, train_y, training=True),steps=5000)"
   ]
  },
  {
   "cell_type": "code",
   "execution_count": 30,
   "metadata": {},
   "outputs": [
    {
     "output_type": "stream",
     "name": "stdout",
     "text": [
      "INFO:tensorflow:Calling model_fn.\n",
      "WARNING:tensorflow:Layer dnn is casting an input tensor from dtype float64 to the layer's dtype of float32, which is new behavior in TensorFlow 2.  The layer has dtype float32 because its dtype defaults to floatx.\n",
      "\n",
      "If you intended to run this layer in float32, you can safely ignore this warning. If in doubt, this warning is likely only an issue if you are porting a TensorFlow 1.X model to TensorFlow 2.\n",
      "\n",
      "To change all layers to have dtype float64 by default, call `tf.keras.backend.set_floatx('float64')`. To change just this layer, pass dtype='float64' to the layer constructor. If you are the author of this layer, you can disable autocasting by passing autocast=False to the base Layer constructor.\n",
      "\n",
      "INFO:tensorflow:Done calling model_fn.\n",
      "INFO:tensorflow:Starting evaluation at 2021-02-24T16:02:15Z\n",
      "INFO:tensorflow:Graph was finalized.\n",
      "INFO:tensorflow:Restoring parameters from C:\\Users\\pipem\\AppData\\Local\\Temp\\tmpwwt8z5q6\\model.ckpt-5000\n",
      "INFO:tensorflow:Running local_init_op.\n",
      "INFO:tensorflow:Done running local_init_op.\n",
      "INFO:tensorflow:Inference Time : 0.16318s\n",
      "INFO:tensorflow:Finished evaluation at 2021-02-24-16:02:15\n",
      "INFO:tensorflow:Saving dict for global step 5000: accuracy = 0.73333335, average_loss = 0.66716456, global_step = 5000, loss = 0.66716456\n",
      "INFO:tensorflow:Saving 'checkpoint_path' summary for global step 5000: C:\\Users\\pipem\\AppData\\Local\\Temp\\tmpwwt8z5q6\\model.ckpt-5000\n",
      "\n",
      "Test set accuracy: 0.733\n",
      "\n"
     ]
    }
   ],
   "source": [
    "eval_result = classifier.evaluate(input_fn=lambda: input_fn(test, test_y, training=False))\n",
    "\n",
    "print('\\nTest set accuracy: {accuracy:0.3f}\\n'.format(**eval_result))"
   ]
  },
  {
   "source": [
    "#I think for Supervised and Unsupervised learning its better to use scikit-learn"
   ],
   "cell_type": "markdown",
   "metadata": {}
  }
 ]
}